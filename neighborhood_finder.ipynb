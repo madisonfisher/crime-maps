{
 "cells": [
  {
   "cell_type": "code",
   "execution_count": null,
   "metadata": {},
   "outputs": [],
   "source": [
    "#dependencies\n",
    "import pandas as pd\n",
    "import numpy as np\n",
    "import requests\n",
    "import gmaps\n",
    "import os\n",
    "import json\n",
    "\n",
    "# Import API key\n",
    "from api_keys import g_key"
   ]
  },
  {
   "cell_type": "code",
   "execution_count": null,
   "metadata": {},
   "outputs": [],
   "source": [
    "buffalo_data = pd.read_csv(\"../buf_all_crime.csv\")"
   ]
  },
  {
   "cell_type": "code",
   "execution_count": null,
   "metadata": {},
   "outputs": [],
   "source": [
    "#creating row counter\n",
    "x = 0\n",
    "\n",
    "for index, row in buffalo_data.iterrows():\n",
    "    if buffalo_data['neighborhood'][x] == \".\":\n",
    "    # variable set up\n",
    "        lat = buffalo_data[\"lat\"][x]\n",
    "        long = buffalo_data[\"long\"][x]\n",
    "        url = \"https://maps.googleapis.com/maps/api/geocode/json?latlng=\" + str(lat) + \",\" + str(long) + \"&key=\" +g_key\n",
    "        response = requests.get(url).json()\n",
    "        results = response[\"results\"][0][\"address_components\"][2]['short_name']\n",
    "        buffalo_data.loc[index, 'neighborhood'] = results\n",
    "        x = x + 1\n",
    "        print(x)\n",
    "    else:\n",
    "        x = x + 1\n",
    "        print(x)\n",
    "buffalo_data.head(20)"
   ]
  },
  {
   "cell_type": "code",
   "execution_count": 6,
   "metadata": {},
   "outputs": [],
   "source": [
    "buffalo_data.to_csv(\"../buf_all_crime_new.csv\", index=False)"
   ]
  },
  {
   "cell_type": "code",
   "execution_count": null,
   "metadata": {},
   "outputs": [],
   "source": []
  }
 ],
 "metadata": {
  "kernelspec": {
   "display_name": "Python [conda env:PythonData] *",
   "language": "python",
   "name": "conda-env-PythonData-py"
  },
  "language_info": {
   "codemirror_mode": {
    "name": "ipython",
    "version": 3
   },
   "file_extension": ".py",
   "mimetype": "text/x-python",
   "name": "python",
   "nbconvert_exporter": "python",
   "pygments_lexer": "ipython3",
   "version": "3.6.10"
  }
 },
 "nbformat": 4,
 "nbformat_minor": 4
}
