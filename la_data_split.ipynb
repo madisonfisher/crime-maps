{
 "cells": [
  {
   "cell_type": "code",
   "execution_count": 1,
   "metadata": {},
   "outputs": [],
   "source": [
    "import pandas as pd"
   ]
  },
  {
   "cell_type": "code",
   "execution_count": 4,
   "metadata": {},
   "outputs": [
    {
     "data": {
      "text/html": [
       "<div>\n",
       "<style scoped>\n",
       "    .dataframe tbody tr th:only-of-type {\n",
       "        vertical-align: middle;\n",
       "    }\n",
       "\n",
       "    .dataframe tbody tr th {\n",
       "        vertical-align: top;\n",
       "    }\n",
       "\n",
       "    .dataframe thead th {\n",
       "        text-align: right;\n",
       "    }\n",
       "</style>\n",
       "<table border=\"1\" class=\"dataframe\">\n",
       "  <thead>\n",
       "    <tr style=\"text-align: right;\">\n",
       "      <th></th>\n",
       "      <th>crime</th>\n",
       "      <th>year</th>\n",
       "      <th>long</th>\n",
       "      <th>lat</th>\n",
       "      <th>city</th>\n",
       "      <th>neighborhood</th>\n",
       "    </tr>\n",
       "  </thead>\n",
       "  <tbody>\n",
       "    <tr>\n",
       "      <th>0</th>\n",
       "      <td>Thefts</td>\n",
       "      <td>2015</td>\n",
       "      <td>-75.1664</td>\n",
       "      <td>39.9401</td>\n",
       "      <td>Philadelphia</td>\n",
       "      <td>.</td>\n",
       "    </tr>\n",
       "    <tr>\n",
       "      <th>1</th>\n",
       "      <td>Thefts</td>\n",
       "      <td>2015</td>\n",
       "      <td>-75.1602</td>\n",
       "      <td>39.9761</td>\n",
       "      <td>Philadelphia</td>\n",
       "      <td>.</td>\n",
       "    </tr>\n",
       "    <tr>\n",
       "      <th>2</th>\n",
       "      <td>Thefts</td>\n",
       "      <td>2015</td>\n",
       "      <td>-75.1631</td>\n",
       "      <td>39.9779</td>\n",
       "      <td>Philadelphia</td>\n",
       "      <td>.</td>\n",
       "    </tr>\n",
       "    <tr>\n",
       "      <th>3</th>\n",
       "      <td>Thefts</td>\n",
       "      <td>2015</td>\n",
       "      <td>-75.0756</td>\n",
       "      <td>40.0413</td>\n",
       "      <td>Philadelphia</td>\n",
       "      <td>.</td>\n",
       "    </tr>\n",
       "    <tr>\n",
       "      <th>4</th>\n",
       "      <td>Disorderly Conduct</td>\n",
       "      <td>2015</td>\n",
       "      <td>-75.1221</td>\n",
       "      <td>39.9909</td>\n",
       "      <td>Philadelphia</td>\n",
       "      <td>.</td>\n",
       "    </tr>\n",
       "  </tbody>\n",
       "</table>\n",
       "</div>"
      ],
      "text/plain": [
       "                crime  year     long      lat          city neighborhood\n",
       "0              Thefts  2015 -75.1664  39.9401  Philadelphia            .\n",
       "1              Thefts  2015 -75.1602  39.9761  Philadelphia            .\n",
       "2              Thefts  2015 -75.1631  39.9779  Philadelphia            .\n",
       "3              Thefts  2015 -75.0756  40.0413  Philadelphia            .\n",
       "4  Disorderly Conduct  2015 -75.1221  39.9909  Philadelphia            ."
      ]
     },
     "execution_count": 4,
     "metadata": {},
     "output_type": "execute_result"
    }
   ],
   "source": [
    "file_path = \"../data.csv\"\n",
    "city_df = pd.read_csv(file_path)\n",
    "city_df.head(5)"
   ]
  },
  {
   "cell_type": "code",
   "execution_count": 5,
   "metadata": {},
   "outputs": [],
   "source": [
    "la_data = city_df[city_df[\"city\"].str.contains(\"Los Angeles\")]"
   ]
  },
  {
   "cell_type": "code",
   "execution_count": 13,
   "metadata": {},
   "outputs": [
    {
     "data": {
      "text/plain": [
       "array([2013, 2010, 2014, 2015, 2011, 2012, 2016])"
      ]
     },
     "execution_count": 13,
     "metadata": {},
     "output_type": "execute_result"
    }
   ],
   "source": [
    "la_data[\"year\"].unique()"
   ]
  },
  {
   "cell_type": "code",
   "execution_count": 15,
   "metadata": {},
   "outputs": [
    {
     "data": {
      "text/plain": [
       "crime           object\n",
       "year             int64\n",
       "long            object\n",
       "lat             object\n",
       "city            object\n",
       "neighborhood    object\n",
       "dtype: object"
      ]
     },
     "execution_count": 15,
     "metadata": {},
     "output_type": "execute_result"
    }
   ],
   "source": [
    "la_data.dtypes"
   ]
  },
  {
   "cell_type": "code",
   "execution_count": 17,
   "metadata": {},
   "outputs": [],
   "source": [
    "la_2010 = la_data.loc[la_data['year'] == 2010]\n",
    "la_2011 = la_data.loc[la_data['year'] == 2011]\n",
    "la_2012 = la_data.loc[la_data['year'] == 2012]\n",
    "la_2013 = la_data.loc[la_data['year'] == 2013]\n",
    "la_2014 = la_data.loc[la_data['year'] == 2014]\n",
    "la_2015 = la_data.loc[la_data['year'] == 2015]\n",
    "la_2016 = la_data.loc[la_data['year'] == 2016]"
   ]
  },
  {
   "cell_type": "code",
   "execution_count": 19,
   "metadata": {},
   "outputs": [],
   "source": [
    "la_2010.to_csv(\"la_data/la_2010.csv\", index=False)\n",
    "la_2011.to_csv(\"la_data/la_2011.csv\", index=False)\n",
    "la_2012.to_csv(\"la_data/la_2012.csv\", index=False)\n",
    "la_2013.to_csv(\"la_data/la_2013.csv\", index=False)\n",
    "la_2014.to_csv(\"la_data/la_2014.csv\", index=False)\n",
    "la_2015.to_csv(\"la_data/la_2015.csv\", index=False)\n",
    "la_2016.to_csv(\"la_data/la_2016.csv\", index=False)"
   ]
  },
  {
   "cell_type": "code",
   "execution_count": null,
   "metadata": {},
   "outputs": [],
   "source": []
  }
 ],
 "metadata": {
  "kernelspec": {
   "display_name": "Python [conda env:PythonData] *",
   "language": "python",
   "name": "conda-env-PythonData-py"
  },
  "language_info": {
   "codemirror_mode": {
    "name": "ipython",
    "version": 3
   },
   "file_extension": ".py",
   "mimetype": "text/x-python",
   "name": "python",
   "nbconvert_exporter": "python",
   "pygments_lexer": "ipython3",
   "version": "3.6.10"
  }
 },
 "nbformat": 4,
 "nbformat_minor": 4
}
