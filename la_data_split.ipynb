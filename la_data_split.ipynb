{
 "cells": [
  {
   "cell_type": "code",
   "execution_count": 1,
   "metadata": {},
   "outputs": [],
   "source": [
    "import pandas as pd"
   ]
  },
  {
   "cell_type": "code",
   "execution_count": 2,
   "metadata": {},
   "outputs": [
    {
     "name": "stderr",
     "output_type": "stream",
     "text": [
      "/Users/Madison/opt/anaconda3/envs/PythonData/lib/python3.6/site-packages/IPython/core/interactiveshell.py:3072: DtypeWarning: Columns (2,3) have mixed types.Specify dtype option on import or set low_memory=False.\n",
      "  interactivity=interactivity, compiler=compiler, result=result)\n"
     ]
    }
   ],
   "source": [
    "file_path = \"../data.csv\"\n",
    "city_df = pd.read_csv(file_path)"
   ]
  },
  {
   "cell_type": "code",
   "execution_count": 3,
   "metadata": {},
   "outputs": [],
   "source": [
    "la_data = city_df[city_df[\"city\"].str.contains(\"Los Angeles\")]"
   ]
  },
  {
   "cell_type": "code",
   "execution_count": 4,
   "metadata": {},
   "outputs": [],
   "source": [
    "la_2010 = la_data.loc[la_data['year'] == 2010]\n",
    "la_2011 = la_data.loc[la_data['year'] == 2011]\n",
    "la_2012 = la_data.loc[la_data['year'] == 2012]\n",
    "la_2013 = la_data.loc[la_data['year'] == 2013]\n",
    "la_2014 = la_data.loc[la_data['year'] == 2014]\n",
    "la_2015 = la_data.loc[la_data['year'] == 2015]\n",
    "la_2016 = la_data.loc[la_data['year'] == 2016]"
   ]
  },
  {
   "cell_type": "code",
   "execution_count": 5,
   "metadata": {},
   "outputs": [],
   "source": [
    "la_2010.to_csv(\"la_data/la_2010.csv\", index=False)\n",
    "la_2011.to_csv(\"la_data/la_2011.csv\", index=False)\n",
    "la_2012.to_csv(\"la_data/la_2012.csv\", index=False)\n",
    "la_2013.to_csv(\"la_data/la_2013.csv\", index=False)\n",
    "la_2014.to_csv(\"la_data/la_2014.csv\", index=False)\n",
    "la_2015.to_csv(\"la_data/la_2015.csv\", index=False)\n",
    "la_2016.to_csv(\"la_data/la_2016.csv\", index=False)"
   ]
  },
  {
   "cell_type": "code",
   "execution_count": null,
   "metadata": {},
   "outputs": [],
   "source": []
  }
 ],
 "metadata": {
  "kernelspec": {
   "display_name": "Python [conda env:PythonData] *",
   "language": "python",
   "name": "conda-env-PythonData-py"
  },
  "language_info": {
   "codemirror_mode": {
    "name": "ipython",
    "version": 3
   },
   "file_extension": ".py",
   "mimetype": "text/x-python",
   "name": "python",
   "nbconvert_exporter": "python",
   "pygments_lexer": "ipython3",
   "version": "3.6.10"
  }
 },
 "nbformat": 4,
 "nbformat_minor": 4
}
